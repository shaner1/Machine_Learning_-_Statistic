{
 "cells": [
  {
   "cell_type": "markdown",
   "metadata": {},
   "source": [
    "![](scipy.png)"
   ]
  },
  {
   "cell_type": "markdown",
   "metadata": {},
   "source": [
    "<br>\n",
    "\n",
    "# Introduction\n",
    "<br>\n",
    "\n",
    "## SciPy\n",
    "<br>\n",
    "SciPy is a Python library used for scientific computing. With SciPy, Python is able to quickly solve various scientific and mathematical problems allowing users to perform complex data-processing with relative ease. SciPy is also capable of a wide range of data manipulation and visualizations. \n",
    "\n",
    "As SciPy is built upon the NumPy Package, it's basic data structure is a multidimensional array. This also means users can make use of Numpy keywords like ```help()``` & ```info()```. When using SciPy, it is convention to import NumPy and Matplotlib to start.\n",
    "\n",
    "Scipy is divided into a number of subpackages that cover different forms of scientific computing, such as Fast Fourier Transforms, Signal & Image Processing, Linear Algebra and much more. We will investigate the Stats subpackage in more detail.  \n",
    "\n",
    "[1]"
   ]
  },
  {
   "cell_type": "code",
   "execution_count": 1,
   "metadata": {},
   "outputs": [],
   "source": [
    "# import necessary libraries \n",
    "import matplotlib.pyplot as plt\n",
    "import numpy as np\n",
    "\n",
    "# import pandas for handling dataframes\n",
    "import pandas as pd\n",
    "# import seaborn for visualisation\n",
    "import seaborn as sns\n",
    "\n",
    "#set size and style of graph\n",
    "plt.rcParams[\"figure.figsize\"] = (12,8)\n",
    "plt.style.use(\"ggplot\")"
   ]
  },
  {
   "cell_type": "markdown",
   "metadata": {},
   "source": [
    "## SciPy.Stats\n",
    "<br>\n",
    "Statistics is a branch of mathematics that involves the collection, analysis and interpretation of data. SciPy.Stats is the statistical module within SciPy and is capable of a number of statistical functions such as probability distributions, summary and frequency statistics, statistical tests and much more. We shall investigate the statistical testing functionality of SciPy.Stats.\n",
    "\n",
    "[2]"
   ]
  },
  {
   "cell_type": "code",
   "execution_count": 2,
   "metadata": {},
   "outputs": [],
   "source": [
    "# import stats subpackage from SciPy\n",
    "from scipy import stats as ss"
   ]
  },
  {
   "cell_type": "markdown",
   "metadata": {},
   "source": [
    "## Hypothesis tests\n",
    "<br>\n",
    "Hypothesis tests are used to determine whether the results of an experiement are true or have occured by chance. In statistics, hypothesis testing determines whether an input variable(s) has a statistically significant relationship with an output (target) variable. By default, it is assumed that there exists no relationship between the variables, this is known as the null hypothesis and the test will check the likelihood that the null hypothesis is true i.e. that there exists no relationship. The Alternative Hypothesis is the hypothesis suggested when the null hypothesis is false. The alternative hypothesis implies that there exists a relationship between the variables. \n",
    "\n",
    "P-Value is a measure of probability that the result of your experiment have occured by chance and is used to determine whether the null hypothesis is true or not. A threshold for the p-value called the significance level is set, below which the probability that the result of the experiment have occured by mere chance is so low that we can reject the null hypothesis. When we reject the null hypothesis, we fail to reject the alternative hypothesis and can infer that there is a likelihood that the alternative hypothesis is true. The significance level is usually set at 0.05.\n",
    "\n",
    "\n",
    "[3][4][5][6][7]"
   ]
  },
  {
   "cell_type": "markdown",
   "metadata": {},
   "source": [
    "## ANOVA\n",
    "\n",
    "ANOVA stands for Analysis of Variance and is a type of hypothesis testing developed by Ronald Fisher in 1918. ANOVA shows whether there exists statistically significant differences between groups of data. This can be useful when you want to understand how the different groups of data interact. The null hypothesis for ANOVA is that the means of the different groups are equal. If there is a statistically significant result, then it means that the groups are unequal. The p-value will show whether the differences between your groups are statistically significant. ANOVA can determine that a difference between the groups exists but is unable to determine which of the groups it is that are different. To determining which of these groups differ from each other you can use a post hoc test.\n",
    "\n",
    "ANOVA works by sampling each group and analysing the levels of variance within them. If there exisits a lot of variance within the groups, there is more chance that the variance is due to chance. The level of variance is determined by the spread of data away from the mean. ANOVA also considers the sample size and the differences between sample means\n",
    "\n",
    "### One-way ANOVA\n",
    "\n",
    "A one-way ANOVA will help determine whether there exists significant differences between the means of two or more independent groups, generally at least three groups are used. One-way ANOVA is closely related to regression analysis. \n",
    "\n",
    "By comparing the effects of the independent groups upon the mean of multiple dependent groups, you can begin to understand which of them has a connection to your dependent groups. The null hypothesis here is that no relationship exists between weight loss and diet type.\n",
    "\n",
    "\n",
    "We shall perform one-way ANOVA on the Diet data set found here: https://www.sheffield.ac.uk/polopoly_fs/1.570199!/file/stcp-Rdataset-Diet.csv\n",
    "\n",
    "This data set contains information on 76 separate people who undertook one of three diets, diets 1, 2 and 3. There is background information such as age, gender, and height. The aim of the study was to see which diet was best for losing weight.\n",
    "\n",
    "[8][9][10][11][12]"
   ]
  },
  {
   "cell_type": "code",
   "execution_count": 3,
   "metadata": {},
   "outputs": [
    {
     "data": {
      "text/html": [
       "<div>\n",
       "<style scoped>\n",
       "    .dataframe tbody tr th:only-of-type {\n",
       "        vertical-align: middle;\n",
       "    }\n",
       "\n",
       "    .dataframe tbody tr th {\n",
       "        vertical-align: top;\n",
       "    }\n",
       "\n",
       "    .dataframe thead th {\n",
       "        text-align: right;\n",
       "    }\n",
       "</style>\n",
       "<table border=\"1\" class=\"dataframe\">\n",
       "  <thead>\n",
       "    <tr style=\"text-align: right;\">\n",
       "      <th></th>\n",
       "      <th>Person</th>\n",
       "      <th>gender</th>\n",
       "      <th>Age</th>\n",
       "      <th>Height</th>\n",
       "      <th>pre.weight</th>\n",
       "      <th>Diet</th>\n",
       "      <th>weight6weeks</th>\n",
       "    </tr>\n",
       "  </thead>\n",
       "  <tbody>\n",
       "    <tr>\n",
       "      <td>0</td>\n",
       "      <td>25</td>\n",
       "      <td></td>\n",
       "      <td>41</td>\n",
       "      <td>171</td>\n",
       "      <td>60</td>\n",
       "      <td>2</td>\n",
       "      <td>60.0</td>\n",
       "    </tr>\n",
       "    <tr>\n",
       "      <td>1</td>\n",
       "      <td>26</td>\n",
       "      <td></td>\n",
       "      <td>32</td>\n",
       "      <td>174</td>\n",
       "      <td>103</td>\n",
       "      <td>2</td>\n",
       "      <td>103.0</td>\n",
       "    </tr>\n",
       "    <tr>\n",
       "      <td>2</td>\n",
       "      <td>1</td>\n",
       "      <td>0</td>\n",
       "      <td>22</td>\n",
       "      <td>159</td>\n",
       "      <td>58</td>\n",
       "      <td>1</td>\n",
       "      <td>54.2</td>\n",
       "    </tr>\n",
       "    <tr>\n",
       "      <td>3</td>\n",
       "      <td>2</td>\n",
       "      <td>0</td>\n",
       "      <td>46</td>\n",
       "      <td>192</td>\n",
       "      <td>60</td>\n",
       "      <td>1</td>\n",
       "      <td>54.0</td>\n",
       "    </tr>\n",
       "    <tr>\n",
       "      <td>4</td>\n",
       "      <td>3</td>\n",
       "      <td>0</td>\n",
       "      <td>55</td>\n",
       "      <td>170</td>\n",
       "      <td>64</td>\n",
       "      <td>1</td>\n",
       "      <td>63.3</td>\n",
       "    </tr>\n",
       "  </tbody>\n",
       "</table>\n",
       "</div>"
      ],
      "text/plain": [
       "   Person gender  Age  Height  pre.weight  Diet  weight6weeks\n",
       "0      25          41     171          60     2          60.0\n",
       "1      26          32     174         103     2         103.0\n",
       "2       1      0   22     159          58     1          54.2\n",
       "3       2      0   46     192          60     1          54.0\n",
       "4       3      0   55     170          64     1          63.3"
      ]
     },
     "execution_count": 3,
     "metadata": {},
     "output_type": "execute_result"
    }
   ],
   "source": [
    "#import our dataset using pandas from URL\n",
    "df = pd.read_csv(\"https://www.sheffield.ac.uk/polopoly_fs/1.570199!/file/stcp-Rdataset-Diet.csv\")\n",
    "df.head()"
   ]
  },
  {
   "cell_type": "markdown",
   "metadata": {},
   "source": [
    "First step is to add a new column ```weightLoss```, which corresponds to the difference between the initial and final weights. This value will be the weightloss attained per observation."
   ]
  },
  {
   "cell_type": "code",
   "execution_count": 4,
   "metadata": {
    "scrolled": true
   },
   "outputs": [
    {
     "data": {
      "text/html": [
       "<div>\n",
       "<style scoped>\n",
       "    .dataframe tbody tr th:only-of-type {\n",
       "        vertical-align: middle;\n",
       "    }\n",
       "\n",
       "    .dataframe tbody tr th {\n",
       "        vertical-align: top;\n",
       "    }\n",
       "\n",
       "    .dataframe thead th {\n",
       "        text-align: right;\n",
       "    }\n",
       "</style>\n",
       "<table border=\"1\" class=\"dataframe\">\n",
       "  <thead>\n",
       "    <tr style=\"text-align: right;\">\n",
       "      <th></th>\n",
       "      <th>Person</th>\n",
       "      <th>gender</th>\n",
       "      <th>Age</th>\n",
       "      <th>Height</th>\n",
       "      <th>pre.weight</th>\n",
       "      <th>Diet</th>\n",
       "      <th>weight6weeks</th>\n",
       "      <th>weightLoss</th>\n",
       "    </tr>\n",
       "  </thead>\n",
       "  <tbody>\n",
       "    <tr>\n",
       "      <td>0</td>\n",
       "      <td>25</td>\n",
       "      <td></td>\n",
       "      <td>41</td>\n",
       "      <td>171</td>\n",
       "      <td>60</td>\n",
       "      <td>2</td>\n",
       "      <td>60.0</td>\n",
       "      <td>0.0</td>\n",
       "    </tr>\n",
       "    <tr>\n",
       "      <td>1</td>\n",
       "      <td>26</td>\n",
       "      <td></td>\n",
       "      <td>32</td>\n",
       "      <td>174</td>\n",
       "      <td>103</td>\n",
       "      <td>2</td>\n",
       "      <td>103.0</td>\n",
       "      <td>0.0</td>\n",
       "    </tr>\n",
       "    <tr>\n",
       "      <td>2</td>\n",
       "      <td>1</td>\n",
       "      <td>0</td>\n",
       "      <td>22</td>\n",
       "      <td>159</td>\n",
       "      <td>58</td>\n",
       "      <td>1</td>\n",
       "      <td>54.2</td>\n",
       "      <td>3.8</td>\n",
       "    </tr>\n",
       "    <tr>\n",
       "      <td>3</td>\n",
       "      <td>2</td>\n",
       "      <td>0</td>\n",
       "      <td>46</td>\n",
       "      <td>192</td>\n",
       "      <td>60</td>\n",
       "      <td>1</td>\n",
       "      <td>54.0</td>\n",
       "      <td>6.0</td>\n",
       "    </tr>\n",
       "    <tr>\n",
       "      <td>4</td>\n",
       "      <td>3</td>\n",
       "      <td>0</td>\n",
       "      <td>55</td>\n",
       "      <td>170</td>\n",
       "      <td>64</td>\n",
       "      <td>1</td>\n",
       "      <td>63.3</td>\n",
       "      <td>0.7</td>\n",
       "    </tr>\n",
       "  </tbody>\n",
       "</table>\n",
       "</div>"
      ],
      "text/plain": [
       "   Person gender  Age  Height  pre.weight  Diet  weight6weeks  weightLoss\n",
       "0      25          41     171          60     2          60.0         0.0\n",
       "1      26          32     174         103     2         103.0         0.0\n",
       "2       1      0   22     159          58     1          54.2         3.8\n",
       "3       2      0   46     192          60     1          54.0         6.0\n",
       "4       3      0   55     170          64     1          63.3         0.7"
      ]
     },
     "execution_count": 4,
     "metadata": {},
     "output_type": "execute_result"
    }
   ],
   "source": [
    "# Declare a list that is to be converted into a column\n",
    "weightLoss = df['pre.weight'] - df['weight6weeks']\n",
    " \n",
    "# create a new column called for weightLoss \n",
    "df['weightLoss'] = weightLoss\n",
    " \n",
    "# Observe the result\n",
    "df.head()"
   ]
  },
  {
   "cell_type": "markdown",
   "metadata": {},
   "source": [
    "### Assumptions \n",
    "\n",
    "\n",
    "When performing ANOVA testing, there are certain assumptions that your data must meet. If your data doesn't meet these assumptions, then it is not appropriate to use ANOVA as the results will be unreliable. For one-way ANOVA there are 6 assumptions to be met. \n",
    "\n",
    "[4][9]"
   ]
  },
  {
   "cell_type": "markdown",
   "metadata": {},
   "source": [
    "**Assumption 1**: Continuous Dependent Variable.\n",
    "\n",
    "The first assumption is that the dependent variable is a continuous, numerical value."
   ]
  },
  {
   "cell_type": "code",
   "execution_count": 5,
   "metadata": {},
   "outputs": [
    {
     "data": {
      "text/plain": [
       "0     0.0\n",
       "1     0.0\n",
       "2     3.8\n",
       "3     6.0\n",
       "4     0.7\n",
       "     ... \n",
       "73    2.8\n",
       "74    4.1\n",
       "75    5.3\n",
       "76    9.2\n",
       "77    6.1\n",
       "Name: weightLoss, Length: 78, dtype: float64"
      ]
     },
     "execution_count": 5,
     "metadata": {},
     "output_type": "execute_result"
    }
   ],
   "source": [
    "# The dependent variable is weight loss\n",
    "dependent = df['weightLoss']\n",
    "dependent"
   ]
  },
  {
   "cell_type": "code",
   "execution_count": 6,
   "metadata": {
    "scrolled": true
   },
   "outputs": [
    {
     "data": {
      "text/plain": [
       "dtype('float64')"
      ]
     },
     "execution_count": 6,
     "metadata": {},
     "output_type": "execute_result"
    }
   ],
   "source": [
    "dependent.dtype"
   ]
  },
  {
   "cell_type": "markdown",
   "metadata": {},
   "source": [
    "We can see that the variable weightloss, our dependent, is indeed a continuous numerical value. \n",
    "\n",
    "**Assumption 1:** True\n",
    "\n",
    "***"
   ]
  },
  {
   "cell_type": "markdown",
   "metadata": {},
   "source": [
    "**Assumption 2**: Categorical Independent Variable.\n",
    "\n",
    "Assumption 2 states that the independent variables must be categorical. Instances of the data can be part of multple categorical variable. Typically, a one-way ANOVA is used when you have three or more independent categorical variables."
   ]
  },
  {
   "cell_type": "code",
   "execution_count": 7,
   "metadata": {
    "scrolled": true
   },
   "outputs": [
    {
     "data": {
      "text/plain": [
       "0     2\n",
       "1     2\n",
       "2     1\n",
       "3     1\n",
       "4     1\n",
       "     ..\n",
       "73    3\n",
       "74    3\n",
       "75    3\n",
       "76    3\n",
       "77    3\n",
       "Name: Diet, Length: 78, dtype: int64"
      ]
     },
     "execution_count": 7,
     "metadata": {},
     "output_type": "execute_result"
    }
   ],
   "source": [
    "# The independent variable\n",
    "independent = df['Diet']\n",
    "independent"
   ]
  },
  {
   "cell_type": "code",
   "execution_count": 8,
   "metadata": {
    "scrolled": true
   },
   "outputs": [
    {
     "data": {
      "text/plain": [
       "array([2, 1, 3])"
      ]
     },
     "execution_count": 8,
     "metadata": {},
     "output_type": "execute_result"
    }
   ],
   "source": [
    "independent.unique()"
   ]
  },
  {
   "cell_type": "markdown",
   "metadata": {},
   "source": [
    "We can see that our independent variables are 3 categorical variables represented by ```1```, ```2``` & ```3```.\n",
    "\n",
    "**Assumption 2**: True\n",
    "\n",
    "***"
   ]
  },
  {
   "cell_type": "markdown",
   "metadata": {},
   "source": [
    "**Assumption 3**: Independence of Observations.\n",
    "\n",
    "Each observation should be independent meaning there shoud be no relationship between the observations in each group or between the groups themselves. The same observations cannot reappear with the dataset. This assumption is a consideration for the design of the experiment and is not something that can be tested for. If this assumption is not true, then ANOVA is not a suitable test. We know that our dataset contains 78 separate participants which fulfils assumption 3.\n",
    "\n",
    "**Assumption 3**: True\n",
    "\n",
    "***"
   ]
  },
  {
   "cell_type": "markdown",
   "metadata": {},
   "source": [
    "**Assumption 4**: No Significant Outliers\n",
    "\n",
    "There should be no significant outliers within the dataset meaning that there are no data points that do not follow the usual pattern. Outliers can have a negative effect on the one-way ANOVA, reducing the validity of your results. \n",
    "\n",
    "To check for outliers we will use a boxplot. A boxplot helps to visualize outliers and determine their values are. It can also tell you if your data is symmetrical, how tightly your data is grouped, and if and how your data is skewed. [13][14]"
   ]
  },
  {
   "cell_type": "code",
   "execution_count": 9,
   "metadata": {},
   "outputs": [
    {
     "data": {
      "image/png": "[encoded data removed]",
      "text/plain": [
       "<Figure size 432x288 with 1 Axes>"
      ]
     },
     "metadata": {
      "needs_background": "light"
     },
     "output_type": "display_data"
    }
   ],
   "source": [
    "# https://seaborn.pydata.org/generated/seaborn.boxplot.html\n",
    "sns.boxplot(y = dependent, x = independent)\n",
    "plt.show()"
   ]
  },
  {
   "cell_type": "code",
   "execution_count": 10,
   "metadata": {},
   "outputs": [
    {
     "data": {
      "text/plain": [
       "<matplotlib.axes._subplots.AxesSubplot at 0x7fce681ef550>"
      ]
     },
     "execution_count": 10,
     "metadata": {},
     "output_type": "execute_result"
    },
    {
     "data": {
      "image/png": "[encoded data removed]",
      "text/plain": [
       "<Figure size 432x288 with 1 Axes>"
      ]
     },
     "metadata": {
      "needs_background": "light"
     },
     "output_type": "display_data"
    }
   ],
   "source": [
    "weightLoss_diet_1 = dependent[independent == 1]\n",
    "sns.boxplot( x = weightLoss_diet_1)"
   ]
  },
  {
   "cell_type": "markdown",
   "metadata": {},
   "source": [
    "Looking at the boxplot we can see there exists 2 univariant outliers for Diet type 1. Lets investigate these further to see if they significantly impact out dataset. We can use to Tukey's method to investigate these possible outliers futher."
   ]
  },
  {
   "cell_type": "code",
   "execution_count": 11,
   "metadata": {},
   "outputs": [
    {
     "data": {
      "text/plain": [
       "<matplotlib.axes._subplots.AxesSubplot at 0x7fce683009d0>"
      ]
     },
     "execution_count": 11,
     "metadata": {},
     "output_type": "execute_result"
    },
    {
     "data": {
      "image/png": "[encoded data removed]",
      "text/plain": [
       "<Figure size 432x288 with 1 Axes>"
      ]
     },
     "metadata": {
      "needs_background": "light"
     },
     "output_type": "display_data"
    }
   ],
   "source": [
    "weightLoss_diet_1 = dependent[independent == 1]\n",
    "sns.boxplot( x = weightLoss_diet_1)"
   ]
  },
  {
   "cell_type": "code",
   "execution_count": 12,
   "metadata": {
    "scrolled": true
   },
   "outputs": [
    {
     "name": "stdout",
     "output_type": "stream",
     "text": [
      "[]\n",
      "[]\n"
     ]
    }
   ],
   "source": [
    "#Tukey's method\n",
    "def tukeys_method(df, variable):\n",
    "    #Takes two parameters: dataframe & variable of interest as string\n",
    "    q1 = df[variable].quantile(0.25)\n",
    "    q3 = df[variable].quantile(0.75)\n",
    "    iqr = q3-q1\n",
    "    inner_fence = 1.5*iqr\n",
    "    outer_fence = 3*iqr\n",
    "    \n",
    "    #inner fence lower and upper end\n",
    "    inner_fence_le = q1-inner_fence\n",
    "    inner_fence_ue = q3+inner_fence\n",
    "    \n",
    "    #outer fence lower and upper end\n",
    "    outer_fence_le = q1-outer_fence\n",
    "    outer_fence_ue = q3+outer_fence\n",
    "    \n",
    "    outliers_prob = []\n",
    "    outliers_poss = []\n",
    "    for index, x in enumerate(df[variable]):\n",
    "        if x <= outer_fence_le or x >= outer_fence_ue:\n",
    "            outliers_prob.append(index)\n",
    "    for index, x in enumerate(df[variable]):\n",
    "        if x <= inner_fence_le or x >= inner_fence_ue:\n",
    "            outliers_poss.append(index)\n",
    "    return outliers_prob, outliers_poss\n",
    "        \n",
    "probable_outliers_tm, possible_outliers_tm = tukeys_method(df, \"Diet\")\n",
    "print(probable_outliers_tm)\n",
    "print(possible_outliers_tm)"
   ]
  },
  {
   "cell_type": "markdown",
   "metadata": {},
   "source": [
    "Tukey's method did not determine any significant outliets\n",
    "\n",
    "**Assumption 4**: True\n",
    "\n",
    "[15][16][17]\n",
    "\n",
    "***"
   ]
  },
  {
   "cell_type": "markdown",
   "metadata": {},
   "source": [
    "**Assumption 5**: Normality of Data.\n",
    "\n",
    "Your dependent variable should be approximately normally distributed, fall into a bell shaped curve, for each category of the independent variable. One-way ANOVA requires only approximately normal data so the data can be a little outside of normal and still provide valid results. We can easily visualise the distirbution of the data with a Kernel Density Plot (KDE)."
   ]
  },
  {
   "cell_type": "code",
   "execution_count": 13,
   "metadata": {},
   "outputs": [
    {
     "data": {
      "text/plain": [
       "<seaborn.axisgrid.FacetGrid at 0x7fce681047d0>"
      ]
     },
     "execution_count": 13,
     "metadata": {},
     "output_type": "execute_result"
    },
    {
     "data": {
      "image/png": "[encoded data removed]",
      "text/plain": [
       "<Figure size 402.375x360 with 1 Axes>"
      ]
     },
     "metadata": {
      "needs_background": "light"
     },
     "output_type": "display_data"
    }
   ],
   "source": [
    "# KDE of the categorical groups\n",
    "sns.displot(x=dependent, hue=independent, kind=\"kde\")"
   ]
  },
  {
   "cell_type": "markdown",
   "metadata": {},
   "source": [
    "All categorical variable appear to be normally distributed, but can test for normality using the Shapiro-Wilk test of normality."
   ]
  },
  {
   "cell_type": "code",
   "execution_count": 14,
   "metadata": {},
   "outputs": [],
   "source": [
    "#split the data according to diet type\n",
    "weightLoss_diet_1 = dependent[independent == 1]\n",
    "weightLoss_diet_2 = dependent[independent == 2]\n",
    "weightLoss_diet_3 = dependent[independent == 3]"
   ]
  },
  {
   "cell_type": "code",
   "execution_count": 15,
   "metadata": {},
   "outputs": [
    {
     "data": {
      "text/plain": [
       "(0.9255314469337463, 0.07748671621084213)"
      ]
     },
     "execution_count": 15,
     "metadata": {},
     "output_type": "execute_result"
    }
   ],
   "source": [
    "#call Shapiro-Wilks from Stats and run it on each diet type\n",
    "\n",
    "shapiro1 = ss.shapiro(weightLoss_diet_1)\n",
    "shapiro1"
   ]
  },
  {
   "cell_type": "code",
   "execution_count": 16,
   "metadata": {},
   "outputs": [
    {
     "data": {
      "text/plain": [
       "(0.9855913519859314, 0.961176335811615)"
      ]
     },
     "execution_count": 16,
     "metadata": {},
     "output_type": "execute_result"
    }
   ],
   "source": [
    "shapiro2 = ss.shapiro(weightLoss_diet_2)\n",
    "shapiro2"
   ]
  },
  {
   "cell_type": "code",
   "execution_count": 17,
   "metadata": {
    "scrolled": true
   },
   "outputs": [
    {
     "data": {
      "text/plain": [
       "(0.9601252675056458, 0.37203603982925415)"
      ]
     },
     "execution_count": 17,
     "metadata": {},
     "output_type": "execute_result"
    }
   ],
   "source": [
    "shapiro3 = ss.shapiro(weightLoss_diet_3)\n",
    "shapiro3"
   ]
  },
  {
   "cell_type": "markdown",
   "metadata": {},
   "source": [
    "After running the Shapiro-Wilks test on our diet types, we see a p-value greater than 0.05 for each and therefore the data is normal.\n",
    "\n",
    "**Assumption 5**: True\n",
    "\n",
    "[18][19]\n",
    "\n",
    "***\n"
   ]
  },
  {
   "cell_type": "markdown",
   "metadata": {},
   "source": [
    "\n",
    "**Assumption 6**: Homogeneity of Variances.\n",
    "\n",
    "There needs to be homogeneity of variances, meaning the bell shaped curves of distirbution needs to be similarly shaped. "
   ]
  },
  {
   "cell_type": "code",
   "execution_count": 18,
   "metadata": {},
   "outputs": [
    {
     "data": {
      "text/plain": [
       "<seaborn.axisgrid.FacetGrid at 0x7fce684c3e10>"
      ]
     },
     "execution_count": 18,
     "metadata": {},
     "output_type": "execute_result"
    },
    {
     "data": {
      "image/png": "[encoded data removed]",
      "text/plain": [
       "<Figure size 402.375x360 with 1 Axes>"
      ]
     },
     "metadata": {
      "needs_background": "light"
     },
     "output_type": "display_data"
    }
   ],
   "source": [
    "# KDE of the categorical groups\n",
    "sns.displot(x=dependent, hue=independent, kind=\"kde\")"
   ]
  },
  {
   "cell_type": "markdown",
   "metadata": {},
   "source": [
    " This assumption appears to be true but can be test using Levene's test for homogeneity of variances. The Levene test tests the null hypothesis that all input samples are from populations with equal variances. "
   ]
  },
  {
   "cell_type": "code",
   "execution_count": 19,
   "metadata": {},
   "outputs": [
    {
     "data": {
      "text/plain": [
       "LeveneResult(statistic=0.6493543435733202, pvalue=0.5254146994556292)"
      ]
     },
     "execution_count": 19,
     "metadata": {},
     "output_type": "execute_result"
    }
   ],
   "source": [
    "ss.levene(\n",
    "    weightLoss_diet_1,\n",
    "    weightLoss_diet_2,\n",
    "    weightLoss_diet_1)"
   ]
  },
  {
   "cell_type": "markdown",
   "metadata": {},
   "source": [
    "Similarly Bartlett’s test can also test for homogeneity of variances.\n",
    "\n"
   ]
  },
  {
   "cell_type": "code",
   "execution_count": 20,
   "metadata": {},
   "outputs": [
    {
     "data": {
      "text/plain": [
       "BartlettResult(statistic=0.337454630479139, pvalue=0.8447392194944549)"
      ]
     },
     "execution_count": 20,
     "metadata": {},
     "output_type": "execute_result"
    }
   ],
   "source": [
    "ss.bartlett(\n",
    "    weightLoss_diet_1,\n",
    "    weightLoss_diet_2,\n",
    "    weightLoss_diet_3)"
   ]
  },
  {
   "cell_type": "markdown",
   "metadata": {},
   "source": [
    "For both test we see a significance level above 0.05 meaning the bell curves are similarly shaped.\n",
    "\n",
    "**Assumption 6**: True\n",
    "\n",
    " \n",
    "[20][21][22]\n",
    "\n",
    "***"
   ]
  },
  {
   "cell_type": "markdown",
   "metadata": {},
   "source": [
    "### One Way Anova\n",
    "\n",
    "As all 6 assumptions are met, we can say one-way ANOVA is an appropirate test for our dataset. The one-way ANOVA will test the null hypothesis that two or more groups have the same population mean. The test is applied to samples from two or more groups, possibly with differing sizes. The return of this model is a statistic value, F and the p-value \n",
    "\n",
    "[23][24][25]"
   ]
  },
  {
   "cell_type": "code",
   "execution_count": 21,
   "metadata": {},
   "outputs": [
    {
     "data": {
      "text/plain": [
       "F_onewayResult(statistic=6.197447453165349, pvalue=0.0032290142385893524)"
      ]
     },
     "execution_count": 21,
     "metadata": {},
     "output_type": "execute_result"
    }
   ],
   "source": [
    "ss.f_oneway(\n",
    "    weightLoss_diet_1,\n",
    "    weightLoss_diet_2,\n",
    "    weightLoss_diet_3)"
   ]
  },
  {
   "cell_type": "markdown",
   "metadata": {},
   "source": [
    "### Interpretation\n",
    "\n",
    "To determine whether the null hypothesis is true, whether there exists a statistically significant difference between the means, the p-value is compared to the significance level. Usually, significance level is denoted as α (alpha). The significance level used here is 0.05.\n",
    "P-value ≤ α: The differences between some of the means are statistically significant. If the p-value is less than or equal to the significance level, you reject the null hypothesis and conclude.\n",
    "\n",
    "P-value > α: The differences between the means are not statistically significant. If the p-value is greater than the significance level, you do not have enough evidence to reject the null hypothesis. The null hypothesis here is that no relationship exists between weight loss and diet type. [26]"
   ]
  },
  {
   "cell_type": "markdown",
   "metadata": {},
   "source": [
    "# Reference \n",
    "***\n",
    "\n",
    "[1] https://scipy.github.io/devdocs/tutorial/general.html\n",
    "\n",
    "[2] https://docs.scipy.org/doc/scipy/reference/stats.html\n",
    "\n",
    "[3] https://www.investopedia.com/terms/s/statistics.asp\n",
    "\n",
    "[4] https://towardsdatascience.com/anova-t-test-and-other-statistical-tests-with-python-e7a36a2fdc0c\n",
    "\n",
    "[5] https://www.youtube.com/watch?v=8JIe_cz6qGA\n",
    "\n",
    "[6] https://www.analyticsvidhya.com/blog/2021/07/a-simple-guide-to-hypothesis-testing-for-dummies/\n",
    "\n",
    "[7] https://www.investopedia.com/terms/p/p-value.asp\n",
    "\n",
    "[8] https://www.qualtrics.com/uk/experience-management/research/anova/\n",
    "\n",
    "[9] https://statistics.laerd.com/spss-tutorials/one-way-anova-using-spss-statistics.php\n",
    "\n",
    "[10] https://bioinformatics-core-shared-training.github.io/linear-models-r/anova.html\n",
    "\n",
    "[11] https://www.youtube.com/watch?v=9cnSWads6oo\n",
    "\n",
    "[12] https://www.dummies.com/article/academics-the-arts/science/biology/the-basic-idea-of-an-analysis-of-variance-anova-149339\n",
    "\n",
    "[13] https://towardsdatascience.com/understanding-boxplots-5e2df7bcbd51\n",
    "\n",
    "[14] https://en.wikipedia.org/wiki/Box_plot\n",
    "\n",
    "[15] https://towardsdatascience.com/detecting-and-treating-outliers-in-python-part-1-4ece5098b755\n",
    "\n",
    "[16] https://en.wikipedia.org/wiki/Tukey%27s_range_test\n",
    "\n",
    "[17] https://statisticsbyjim.com/basics/outliers/\n",
    "\n",
    "[18] https://statistics.laerd.com/spss-tutorials/testing-for-normality-using-spss-statistics.php\n",
    "\n",
    "[19] https://docs.scipy.org/doc/scipy/reference/generated/scipy.stats.shapiro.html?highlight=shapiro#scipy.stats.shapiro\n",
    "\n",
    "[20] https://docs.scipy.org/doc/scipy/reference/generated/scipy.stats.levene.html\n",
    "\n",
    "[21] https://statistics.laerd.com/statistical-guides/independent-t-test-statistical-guide.php\n",
    "\n",
    "[22] https://docs.scipy.org/doc/scipy/reference/generated/scipy.stats.bartlett.html\n",
    "\n",
    "[23] https://www.youtube.com/watch?v=9cnSWads6oo\n",
    "\n",
    "[24] https://docs.scipy.org/doc/scipy/reference/generated/scipy.stats.f_oneway.html\n",
    "\n",
    "[25] https://www.pythonfordatascience.org/anova-python/\n",
    "\n",
    "[26] https://support.minitab.com/en-us/minitab-express/1/help-and-how-to/modeling-statistics/anova/how-to/one-way-anova/interpret-the-results/all-statistics-and-graphs/"
   ]
  },
  {
   "cell_type": "code",
   "execution_count": null,
   "metadata": {},
   "outputs": [],
   "source": []
  },
  {
   "cell_type": "code",
   "execution_count": null,
   "metadata": {},
   "outputs": [],
   "source": []
  }
 ],
 "metadata": {
  "kernelspec": {
   "display_name": "Python 3",
   "language": "python",
   "name": "python3"
  },
  "language_info": {
   "codemirror_mode": {
    "name": "ipython",
    "version": 3
   },
   "file_extension": ".py",
   "mimetype": "text/x-python",
   "name": "python",
   "nbconvert_exporter": "python",
   "pygments_lexer": "ipython3",
   "version": "3.7.4"
  }
 },
 "nbformat": 4,
 "nbformat_minor": 4
}
