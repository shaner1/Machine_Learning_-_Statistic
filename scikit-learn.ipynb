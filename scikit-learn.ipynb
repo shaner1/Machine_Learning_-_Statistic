{
 "cells": [
  {
   "cell_type": "markdown",
   "metadata": {},
   "source": [
    "![](data:image/png;base64,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)\n",
    "\n"
   ]
  },
  {
   "cell_type": "markdown",
   "metadata": {},
   "source": [
    "# Introduction\n",
    "***\n",
    "\n",
    "## Machine Learning\n",
    "\n",
    "Machine learning refers to the use of statistical algorithms to create computational models that can make predictions about a dataset. There are three main types of machine learning; Supervised, Unsupervised and Reinforcement learning\n",
    "\n",
    "### Supervised Learning \n",
    "\n",
    "In general, supervised machine learning is for data that contains information about the answer we are looking for. A supervised algorithm is provide a well labeled dataset, called the training dataset, from which it learns and can make predictions about unlabeled data. The algorithm establishes a model, a relationship between the inputs and outputs of the training dataset, which it uses to estimate, or make predictions about new data with similar inputs. Supervised learning is simple and very accurate. There are two main types of supervised learning which are classification and regression. [1][2]\n",
    "\n",
    "## Scikit-Learn\n",
    "\n",
    "Scikit-learn is a Python library that allows for the quick and easy implementation of various machine learning algorithms. Scikit-learn, or sklearn for short, supports numerous types of supervised and unsupervised machine learning.  With sklearn, users can quickly switch between different algorithms and models for easy comparison of performance. Users may also perform pre-processing, pipelining and many other tasks with ease.\n",
    "\n",
    "Sklearn is built upon the NumPy, Matplotlib and SciPy libraries and uses homogeneous numpy arrays as it's basic data structure. Algorithms in sklearn are implemeted as Python classes. As best practice, you should import these libraries when using sklearn. [3][4][5]"
   ]
  },
  {
   "cell_type": "code",
   "execution_count": 203,
   "metadata": {
    "scrolled": true
   },
   "outputs": [],
   "source": [
    "# import all necessary libraries\n",
    "\n",
    "# matplotlib for visualisation\n",
    "import matplotlib.pyplot as plt\n",
    "# for dealing with nd arrays\n",
    "import numpy as np\n",
    "# for creating dataframes and reading in csv files \n",
    "import pandas as pd\n",
    "# seaborn is a versitile plotting library\n",
    "import seaborn as sns\n",
    "\n",
    "import sklearn\n",
    "\n",
    "#set size and style of graphc\n",
    "plt.rcParams['figure.figsize'] = (15,8)\n",
    "plt.style.use('ggplot')"
   ]
  },
  {
   "cell_type": "markdown",
   "metadata": {},
   "source": [
    "### sklean.datasets\n",
    "\n",
    "Sklearn provides the user with a multitude of helpful tools and trick. One great feature is that it contains example datasets which do not require you to load a file. To use them you simply import the dataset sub-package and specify which one you want to use. The dataset I shall use is the well known iris dataset.\n",
    "\n",
    "The dataset consists of 150 samples of the iris flower. Each samples has four features, sepal length, sepal width, petal length and petal width, and falls into one of three types; setosa, virginica and versicolours. [6]"
   ]
  },
  {
   "cell_type": "markdown",
   "metadata": {},
   "source": [
    "![](https://content.codecademy.com/programs/machine-learning/k-means/iris.svg)"
   ]
  },
  {
   "cell_type": "code",
   "execution_count": 78,
   "metadata": {},
   "outputs": [],
   "source": [
    "# import the datasets package\n",
    "import sklearn.datasets as datasets\n",
    "# specify the dataset we want to use\n",
    "iris = datasets.load_iris()"
   ]
  },
  {
   "cell_type": "markdown",
   "metadata": {},
   "source": [
    " The dataset is returned as ```(data, target)```. "
   ]
  },
  {
   "cell_type": "code",
   "execution_count": 28,
   "metadata": {
    "scrolled": true
   },
   "outputs": [
    {
     "data": {
      "text/plain": [
       "array([0, 0, 0, 0, 0, 0, 0, 0, 0, 0, 0, 0, 0, 0, 0, 0, 0, 0, 0, 0, 0, 0,\n",
       "       0, 0, 0, 0, 0, 0, 0, 0, 0, 0, 0, 0, 0, 0, 0, 0, 0, 0, 0, 0, 0, 0,\n",
       "       0, 0, 0, 0, 0, 0, 1, 1, 1, 1, 1, 1, 1, 1, 1, 1, 1, 1, 1, 1, 1, 1,\n",
       "       1, 1, 1, 1, 1, 1, 1, 1, 1, 1, 1, 1, 1, 1, 1, 1, 1, 1, 1, 1, 1, 1,\n",
       "       1, 1, 1, 1, 1, 1, 1, 1, 1, 1, 1, 1, 2, 2, 2, 2, 2, 2, 2, 2, 2, 2,\n",
       "       2, 2, 2, 2, 2, 2, 2, 2, 2, 2, 2, 2, 2, 2, 2, 2, 2, 2, 2, 2, 2, 2,\n",
       "       2, 2, 2, 2, 2, 2, 2, 2, 2, 2, 2, 2, 2, 2, 2, 2, 2, 2])"
      ]
     },
     "execution_count": 28,
     "metadata": {},
     "output_type": "execute_result"
    }
   ],
   "source": [
    "# look at our target variables \n",
    "iris.target"
   ]
  },
  {
   "cell_type": "markdown",
   "metadata": {},
   "source": [
    "Species is shown as catagorical variables where 0 = Setosa, 1 = Versicolor, & 2 = Virginica."
   ]
  },
  {
   "cell_type": "code",
   "execution_count": 29,
   "metadata": {
    "collapsed": true
   },
   "outputs": [
    {
     "data": {
      "text/plain": [
       "array([[5.1, 3.5, 1.4, 0.2],\n",
       "       [4.9, 3. , 1.4, 0.2],\n",
       "       [4.7, 3.2, 1.3, 0.2],\n",
       "       [4.6, 3.1, 1.5, 0.2],\n",
       "       [5. , 3.6, 1.4, 0.2],\n",
       "       [5.4, 3.9, 1.7, 0.4],\n",
       "       [4.6, 3.4, 1.4, 0.3],\n",
       "       [5. , 3.4, 1.5, 0.2],\n",
       "       [4.4, 2.9, 1.4, 0.2],\n",
       "       [4.9, 3.1, 1.5, 0.1],\n",
       "       [5.4, 3.7, 1.5, 0.2],\n",
       "       [4.8, 3.4, 1.6, 0.2],\n",
       "       [4.8, 3. , 1.4, 0.1],\n",
       "       [4.3, 3. , 1.1, 0.1],\n",
       "       [5.8, 4. , 1.2, 0.2],\n",
       "       [5.7, 4.4, 1.5, 0.4],\n",
       "       [5.4, 3.9, 1.3, 0.4],\n",
       "       [5.1, 3.5, 1.4, 0.3],\n",
       "       [5.7, 3.8, 1.7, 0.3],\n",
       "       [5.1, 3.8, 1.5, 0.3],\n",
       "       [5.4, 3.4, 1.7, 0.2],\n",
       "       [5.1, 3.7, 1.5, 0.4],\n",
       "       [4.6, 3.6, 1. , 0.2],\n",
       "       [5.1, 3.3, 1.7, 0.5],\n",
       "       [4.8, 3.4, 1.9, 0.2],\n",
       "       [5. , 3. , 1.6, 0.2],\n",
       "       [5. , 3.4, 1.6, 0.4],\n",
       "       [5.2, 3.5, 1.5, 0.2],\n",
       "       [5.2, 3.4, 1.4, 0.2],\n",
       "       [4.7, 3.2, 1.6, 0.2],\n",
       "       [4.8, 3.1, 1.6, 0.2],\n",
       "       [5.4, 3.4, 1.5, 0.4],\n",
       "       [5.2, 4.1, 1.5, 0.1],\n",
       "       [5.5, 4.2, 1.4, 0.2],\n",
       "       [4.9, 3.1, 1.5, 0.2],\n",
       "       [5. , 3.2, 1.2, 0.2],\n",
       "       [5.5, 3.5, 1.3, 0.2],\n",
       "       [4.9, 3.6, 1.4, 0.1],\n",
       "       [4.4, 3. , 1.3, 0.2],\n",
       "       [5.1, 3.4, 1.5, 0.2],\n",
       "       [5. , 3.5, 1.3, 0.3],\n",
       "       [4.5, 2.3, 1.3, 0.3],\n",
       "       [4.4, 3.2, 1.3, 0.2],\n",
       "       [5. , 3.5, 1.6, 0.6],\n",
       "       [5.1, 3.8, 1.9, 0.4],\n",
       "       [4.8, 3. , 1.4, 0.3],\n",
       "       [5.1, 3.8, 1.6, 0.2],\n",
       "       [4.6, 3.2, 1.4, 0.2],\n",
       "       [5.3, 3.7, 1.5, 0.2],\n",
       "       [5. , 3.3, 1.4, 0.2],\n",
       "       [7. , 3.2, 4.7, 1.4],\n",
       "       [6.4, 3.2, 4.5, 1.5],\n",
       "       [6.9, 3.1, 4.9, 1.5],\n",
       "       [5.5, 2.3, 4. , 1.3],\n",
       "       [6.5, 2.8, 4.6, 1.5],\n",
       "       [5.7, 2.8, 4.5, 1.3],\n",
       "       [6.3, 3.3, 4.7, 1.6],\n",
       "       [4.9, 2.4, 3.3, 1. ],\n",
       "       [6.6, 2.9, 4.6, 1.3],\n",
       "       [5.2, 2.7, 3.9, 1.4],\n",
       "       [5. , 2. , 3.5, 1. ],\n",
       "       [5.9, 3. , 4.2, 1.5],\n",
       "       [6. , 2.2, 4. , 1. ],\n",
       "       [6.1, 2.9, 4.7, 1.4],\n",
       "       [5.6, 2.9, 3.6, 1.3],\n",
       "       [6.7, 3.1, 4.4, 1.4],\n",
       "       [5.6, 3. , 4.5, 1.5],\n",
       "       [5.8, 2.7, 4.1, 1. ],\n",
       "       [6.2, 2.2, 4.5, 1.5],\n",
       "       [5.6, 2.5, 3.9, 1.1],\n",
       "       [5.9, 3.2, 4.8, 1.8],\n",
       "       [6.1, 2.8, 4. , 1.3],\n",
       "       [6.3, 2.5, 4.9, 1.5],\n",
       "       [6.1, 2.8, 4.7, 1.2],\n",
       "       [6.4, 2.9, 4.3, 1.3],\n",
       "       [6.6, 3. , 4.4, 1.4],\n",
       "       [6.8, 2.8, 4.8, 1.4],\n",
       "       [6.7, 3. , 5. , 1.7],\n",
       "       [6. , 2.9, 4.5, 1.5],\n",
       "       [5.7, 2.6, 3.5, 1. ],\n",
       "       [5.5, 2.4, 3.8, 1.1],\n",
       "       [5.5, 2.4, 3.7, 1. ],\n",
       "       [5.8, 2.7, 3.9, 1.2],\n",
       "       [6. , 2.7, 5.1, 1.6],\n",
       "       [5.4, 3. , 4.5, 1.5],\n",
       "       [6. , 3.4, 4.5, 1.6],\n",
       "       [6.7, 3.1, 4.7, 1.5],\n",
       "       [6.3, 2.3, 4.4, 1.3],\n",
       "       [5.6, 3. , 4.1, 1.3],\n",
       "       [5.5, 2.5, 4. , 1.3],\n",
       "       [5.5, 2.6, 4.4, 1.2],\n",
       "       [6.1, 3. , 4.6, 1.4],\n",
       "       [5.8, 2.6, 4. , 1.2],\n",
       "       [5. , 2.3, 3.3, 1. ],\n",
       "       [5.6, 2.7, 4.2, 1.3],\n",
       "       [5.7, 3. , 4.2, 1.2],\n",
       "       [5.7, 2.9, 4.2, 1.3],\n",
       "       [6.2, 2.9, 4.3, 1.3],\n",
       "       [5.1, 2.5, 3. , 1.1],\n",
       "       [5.7, 2.8, 4.1, 1.3],\n",
       "       [6.3, 3.3, 6. , 2.5],\n",
       "       [5.8, 2.7, 5.1, 1.9],\n",
       "       [7.1, 3. , 5.9, 2.1],\n",
       "       [6.3, 2.9, 5.6, 1.8],\n",
       "       [6.5, 3. , 5.8, 2.2],\n",
       "       [7.6, 3. , 6.6, 2.1],\n",
       "       [4.9, 2.5, 4.5, 1.7],\n",
       "       [7.3, 2.9, 6.3, 1.8],\n",
       "       [6.7, 2.5, 5.8, 1.8],\n",
       "       [7.2, 3.6, 6.1, 2.5],\n",
       "       [6.5, 3.2, 5.1, 2. ],\n",
       "       [6.4, 2.7, 5.3, 1.9],\n",
       "       [6.8, 3. , 5.5, 2.1],\n",
       "       [5.7, 2.5, 5. , 2. ],\n",
       "       [5.8, 2.8, 5.1, 2.4],\n",
       "       [6.4, 3.2, 5.3, 2.3],\n",
       "       [6.5, 3. , 5.5, 1.8],\n",
       "       [7.7, 3.8, 6.7, 2.2],\n",
       "       [7.7, 2.6, 6.9, 2.3],\n",
       "       [6. , 2.2, 5. , 1.5],\n",
       "       [6.9, 3.2, 5.7, 2.3],\n",
       "       [5.6, 2.8, 4.9, 2. ],\n",
       "       [7.7, 2.8, 6.7, 2. ],\n",
       "       [6.3, 2.7, 4.9, 1.8],\n",
       "       [6.7, 3.3, 5.7, 2.1],\n",
       "       [7.2, 3.2, 6. , 1.8],\n",
       "       [6.2, 2.8, 4.8, 1.8],\n",
       "       [6.1, 3. , 4.9, 1.8],\n",
       "       [6.4, 2.8, 5.6, 2.1],\n",
       "       [7.2, 3. , 5.8, 1.6],\n",
       "       [7.4, 2.8, 6.1, 1.9],\n",
       "       [7.9, 3.8, 6.4, 2. ],\n",
       "       [6.4, 2.8, 5.6, 2.2],\n",
       "       [6.3, 2.8, 5.1, 1.5],\n",
       "       [6.1, 2.6, 5.6, 1.4],\n",
       "       [7.7, 3. , 6.1, 2.3],\n",
       "       [6.3, 3.4, 5.6, 2.4],\n",
       "       [6.4, 3.1, 5.5, 1.8],\n",
       "       [6. , 3. , 4.8, 1.8],\n",
       "       [6.9, 3.1, 5.4, 2.1],\n",
       "       [6.7, 3.1, 5.6, 2.4],\n",
       "       [6.9, 3.1, 5.1, 2.3],\n",
       "       [5.8, 2.7, 5.1, 1.9],\n",
       "       [6.8, 3.2, 5.9, 2.3],\n",
       "       [6.7, 3.3, 5.7, 2.5],\n",
       "       [6.7, 3. , 5.2, 2.3],\n",
       "       [6.3, 2.5, 5. , 1.9],\n",
       "       [6.5, 3. , 5.2, 2. ],\n",
       "       [6.2, 3.4, 5.4, 2.3],\n",
       "       [5.9, 3. , 5.1, 1.8]])"
      ]
     },
     "execution_count": 29,
     "metadata": {},
     "output_type": "execute_result"
    }
   ],
   "source": [
    "# look at our input variables \n",
    "iris.data"
   ]
  },
  {
   "cell_type": "markdown",
   "metadata": {},
   "source": [
    "In version 0.23 you can specify how you would like the dataset returned\n",
    "\n",
    "```sklearn.datasets.load_iris(*, return_X_y=False, as_frame=False)```"
   ]
  },
  {
   "cell_type": "code",
   "execution_count": 239,
   "metadata": {},
   "outputs": [
    {
     "name": "stdout",
     "output_type": "stream",
     "text": [
      "The scikit-learn version is 0.21.3.\n"
     ]
    }
   ],
   "source": [
    "# show which version of sklearn is installed\n",
    "print('The scikit-learn version is {}.'.format(sklearn.__version__))\n",
    "\n",
    "# https://stackoverflow.com/questions/28501072/how-to-check-which-version-of-nltk-scikit-learn-installed"
   ]
  },
  {
   "cell_type": "code",
   "execution_count": 240,
   "metadata": {},
   "outputs": [
    {
     "data": {
      "text/html": [
       "<div>\n",
       "<style scoped>\n",
       "    .dataframe tbody tr th:only-of-type {\n",
       "        vertical-align: middle;\n",
       "    }\n",
       "\n",
       "    .dataframe tbody tr th {\n",
       "        vertical-align: top;\n",
       "    }\n",
       "\n",
       "    .dataframe thead th {\n",
       "        text-align: right;\n",
       "    }\n",
       "</style>\n",
       "<table border=\"1\" class=\"dataframe\">\n",
       "  <thead>\n",
       "    <tr style=\"text-align: right;\">\n",
       "      <th></th>\n",
       "      <th>sepal length (cm)</th>\n",
       "      <th>sepal width (cm)</th>\n",
       "      <th>petal length (cm)</th>\n",
       "      <th>petal width (cm)</th>\n",
       "    </tr>\n",
       "  </thead>\n",
       "  <tbody>\n",
       "    <tr>\n",
       "      <td>0</td>\n",
       "      <td>5.1</td>\n",
       "      <td>3.5</td>\n",
       "      <td>1.4</td>\n",
       "      <td>0.2</td>\n",
       "    </tr>\n",
       "    <tr>\n",
       "      <td>1</td>\n",
       "      <td>4.9</td>\n",
       "      <td>3.0</td>\n",
       "      <td>1.4</td>\n",
       "      <td>0.2</td>\n",
       "    </tr>\n",
       "    <tr>\n",
       "      <td>2</td>\n",
       "      <td>4.7</td>\n",
       "      <td>3.2</td>\n",
       "      <td>1.3</td>\n",
       "      <td>0.2</td>\n",
       "    </tr>\n",
       "    <tr>\n",
       "      <td>3</td>\n",
       "      <td>4.6</td>\n",
       "      <td>3.1</td>\n",
       "      <td>1.5</td>\n",
       "      <td>0.2</td>\n",
       "    </tr>\n",
       "    <tr>\n",
       "      <td>4</td>\n",
       "      <td>5.0</td>\n",
       "      <td>3.6</td>\n",
       "      <td>1.4</td>\n",
       "      <td>0.2</td>\n",
       "    </tr>\n",
       "  </tbody>\n",
       "</table>\n",
       "</div>"
      ],
      "text/plain": [
       "   sepal length (cm)  sepal width (cm)  petal length (cm)  petal width (cm)\n",
       "0                5.1               3.5                1.4               0.2\n",
       "1                4.9               3.0                1.4               0.2\n",
       "2                4.7               3.2                1.3               0.2\n",
       "3                4.6               3.1                1.5               0.2\n",
       "4                5.0               3.6                1.4               0.2"
      ]
     },
     "execution_count": 240,
     "metadata": {},
     "output_type": "execute_result"
    }
   ],
   "source": [
    "# convert dataset to DataFrame\n",
    "df = pd.DataFrame(iris.data, columns=iris.feature_names)\n",
    "df.head()\n",
    "\n",
    "# https://www.codegrepper.com/code-examples/python/load+iris+dataset+as+pandas+dataframe"
   ]
  },
  {
   "cell_type": "code",
   "execution_count": 94,
   "metadata": {
    "scrolled": true
   },
   "outputs": [
    {
     "data": {
      "text/html": [
       "<div>\n",
       "<style scoped>\n",
       "    .dataframe tbody tr th:only-of-type {\n",
       "        vertical-align: middle;\n",
       "    }\n",
       "\n",
       "    .dataframe tbody tr th {\n",
       "        vertical-align: top;\n",
       "    }\n",
       "\n",
       "    .dataframe thead th {\n",
       "        text-align: right;\n",
       "    }\n",
       "</style>\n",
       "<table border=\"1\" class=\"dataframe\">\n",
       "  <thead>\n",
       "    <tr style=\"text-align: right;\">\n",
       "      <th></th>\n",
       "      <th>sepal length (cm)</th>\n",
       "      <th>sepal width (cm)</th>\n",
       "      <th>petal length (cm)</th>\n",
       "      <th>petal width (cm)</th>\n",
       "      <th>species</th>\n",
       "    </tr>\n",
       "  </thead>\n",
       "  <tbody>\n",
       "    <tr>\n",
       "      <td>0</td>\n",
       "      <td>5.1</td>\n",
       "      <td>3.5</td>\n",
       "      <td>1.4</td>\n",
       "      <td>0.2</td>\n",
       "      <td>0</td>\n",
       "    </tr>\n",
       "    <tr>\n",
       "      <td>1</td>\n",
       "      <td>4.9</td>\n",
       "      <td>3.0</td>\n",
       "      <td>1.4</td>\n",
       "      <td>0.2</td>\n",
       "      <td>0</td>\n",
       "    </tr>\n",
       "    <tr>\n",
       "      <td>2</td>\n",
       "      <td>4.7</td>\n",
       "      <td>3.2</td>\n",
       "      <td>1.3</td>\n",
       "      <td>0.2</td>\n",
       "      <td>0</td>\n",
       "    </tr>\n",
       "    <tr>\n",
       "      <td>3</td>\n",
       "      <td>4.6</td>\n",
       "      <td>3.1</td>\n",
       "      <td>1.5</td>\n",
       "      <td>0.2</td>\n",
       "      <td>0</td>\n",
       "    </tr>\n",
       "    <tr>\n",
       "      <td>4</td>\n",
       "      <td>5.0</td>\n",
       "      <td>3.6</td>\n",
       "      <td>1.4</td>\n",
       "      <td>0.2</td>\n",
       "      <td>0</td>\n",
       "    </tr>\n",
       "  </tbody>\n",
       "</table>\n",
       "</div>"
      ],
      "text/plain": [
       "   sepal length (cm)  sepal width (cm)  petal length (cm)  petal width (cm)  \\\n",
       "0                5.1               3.5                1.4               0.2   \n",
       "1                4.9               3.0                1.4               0.2   \n",
       "2                4.7               3.2                1.3               0.2   \n",
       "3                4.6               3.1                1.5               0.2   \n",
       "4                5.0               3.6                1.4               0.2   \n",
       "\n",
       "   species  \n",
       "0        0  \n",
       "1        0  \n",
       "2        0  \n",
       "3        0  \n",
       "4        0  "
      ]
     },
     "execution_count": 94,
     "metadata": {},
     "output_type": "execute_result"
    }
   ],
   "source": [
    "# add species to df\n",
    "df['species'] = iris.target\n",
    "df.head()"
   ]
  },
  {
   "cell_type": "code",
   "execution_count": 85,
   "metadata": {
    "scrolled": true
   },
   "outputs": [
    {
     "data": {
      "text/plain": [
       "<seaborn.axisgrid.PairGrid at 0x7ffd295f8c50>"
      ]
     },
     "execution_count": 85,
     "metadata": {},
     "output_type": "execute_result"
    },
    {
     "data": {
      "image/png": "[encoded data removed]",
      "text/plain": [
       "<Figure size 765.375x720 with 20 Axes>"
      ]
     },
     "metadata": {},
     "output_type": "display_data"
    }
   ],
   "source": [
    "# use seaborn to visualise the datset\n",
    "sns.pairplot(df, hue = 'species')"
   ]
  },
  {
   "cell_type": "markdown",
   "metadata": {},
   "source": [
    "### sklearn.model_selection\n",
    "\n",
    "Another great feature of sklearn is the Model_Selection package, which contains a number of useful tools that help improve your machine learning model. In sklearn, models are referred to as estimators. "
   ]
  },
  {
   "cell_type": "markdown",
   "metadata": {},
   "source": [
    "![](ml_map.png)"
   ]
  },
  {
   "cell_type": "markdown",
   "metadata": {},
   "source": [
    "Selecting the right estimator for your data is very important as different estimators are better suited to different types of data and problems and choosing the right one will results in better predictions. Model_selection can help you make the right choice by allowing you to easily compare performance of different estimators. [3][7][8]"
   ]
  },
  {
   "cell_type": "code",
   "execution_count": 87,
   "metadata": {},
   "outputs": [],
   "source": [
    "# model_selection contains tools for helping dealing with models\n",
    "import sklearn.model_selection as mod"
   ]
  },
  {
   "cell_type": "markdown",
   "metadata": {},
   "source": [
    "### train_test_split \n",
    "\n",
    "With supervised learning a common practice is to withold part of a labeled dataset to evaluate the performance of the model. The labeled dataset is split into two subsets, a training set and a test set. The training set is used to build the model and test set is input into the model without the label to see the values the model predicts. The predicted labels for the test set are then compared against the actual labels to evaluate how successful the estimator was. You can then compare its performance against other estimators to decide the best one to use. This is easily done with the `train_test_split` method model_selection.\n",
    "\n",
    "By default, `train_test_split` will make random partitions for the two subsets. However, you can also specify a random state for the operation.\n",
    "\n",
    "`train_test_split(X, y, train_size=0.*,test_size=0.*, random_state=*)`\n",
    "[9]"
   ]
  },
  {
   "cell_type": "markdown",
   "metadata": {},
   "source": [
    "# Regression\n",
    "***\n",
    "\n",
    "Regression analysis is a type of supervised learning. With regression analysis there is a target, the value we hope to predict, and what we used to predict that target value, the predictor(s). The target is generally referred to as the dependent, as it's value is dependent upon the predictor, and is often denoted as y. The predictor(s) are known as the independent variables, as they are not influenced by the dependent, and are denoted as X. There are various types of regression analysis each with it's own use cases. \n",
    "\n",
    "I will now investigate some regression models in sklearn and compare their performance to decide which is the best suited to analysing the iris dataset. I will use petal length as the target variable and sepal length, sepal width as the inputs.\n",
    "\n",
    "## Linear Regression\n",
    "\n",
    "Linear regression can be applied when a linear relationship exists between the dependents and independents or, in others words, that the value of $y$ can be denoted as $y = m * x + c$ where $m$ is the slope of the line and $c$ is the $y$ intercept. When plotted, a straight line bisects the X and Y axes. With this line we can determine values of y for given values of X. A linear regression model uses this to approximate unknown values of y.\n",
    "\n",
    "There are countless lines that bisect the X and Y axes. Determining the line that best suits our datset will give us the most accurate predictions, this is known as the line of best fit. To establish the line of best fit, linear regresion uses the leasted squared method. The least squared method works by making the total of the square of the errors as small as possible. Errors refers to the distance between the datapoints and the line, which is illustrated below. [10][11][12][13]"
   ]
  },
  {
   "cell_type": "code",
   "execution_count": 64,
   "metadata": {
    "scrolled": true
   },
   "outputs": [
    {
     "data": {
      "image/png": "[encoded data removed]",
      "text/plain": [
       "<Figure size 1080x576 with 1 Axes>"
      ]
     },
     "metadata": {},
     "output_type": "display_data"
    }
   ],
   "source": [
    "x = np.arange(1,6)\n",
    "y = [2,4,3,4,7]\n",
    "plt.plot([-1,7],[-1,7],'g', label = 'Best Fit Line')\n",
    "\n",
    "# add in the errors \n",
    "plt.plot([1, 1], [1, 2], 'b-', label = 'Error')\n",
    "plt.plot([5, 5], [5, 7], 'b-', label = 'Error')\n",
    "plt.plot([-1, 10], [0, 0], 'k-')\n",
    "plt.plot([0, 0], [-1, 10], 'k-')\n",
    "plt.plot(x, y, 'ro', label = 'Data');\n",
    "plt.xlim([-1, 7])\n",
    "plt.ylim([-1, 8])\n",
    "plt.xlabel('Independant')\n",
    "plt.ylabel('Dependant')\n",
    "plt.title('Least Squared')\n",
    "plt.legend()\n",
    "plt.show()"
   ]
  },
  {
   "cell_type": "markdown",
   "metadata": {},
   "source": [
    "In sklearn implementing various model is quick and easy. You just need to import the package for that model. I will know import the linear regression model and apply it to my data. [14]"
   ]
  },
  {
   "cell_type": "code",
   "execution_count": 169,
   "metadata": {},
   "outputs": [],
   "source": [
    "# import the linear models package\n",
    "import sklearn.linear_model as lm"
   ]
  },
  {
   "cell_type": "code",
   "execution_count": 170,
   "metadata": {},
   "outputs": [],
   "source": [
    "# create an instance of the estimator to which the data is passed \n",
    "lin = lm.LinearRegression()"
   ]
  },
  {
   "cell_type": "markdown",
   "metadata": {},
   "source": [
    "### Fit \n",
    "\n",
    "Fitting the dataset is a crucial step in the process, the fit method will estimate the best representative function for the the data and build the model. Fit will validate and interpret the input data, estimate and store model attributes and return a fitted estimator of the data. \n",
    "\n",
    "The fit method generally takes 2 inputs: \n",
    "- X: The independent variables. The samples are represented as rows and features are represented as columns.\n",
    "- y: The dependent variables, which are real numbers for regression.\n",
    "\n",
    "Both X and y are usually expected to be numpy arrays or equivalent array-like data types.  Once the estimator is fitted, it can be used for predicting target values of new data. You don’t need to re-train the estimator. [15][16] \n",
    "\n"
   ]
  },
  {
   "cell_type": "code",
   "execution_count": 204,
   "metadata": {
    "collapsed": true
   },
   "outputs": [
    {
     "data": {
      "text/plain": [
       "array([[5.1, 3.5],\n",
       "       [4.9, 3. ],\n",
       "       [4.7, 3.2],\n",
       "       [4.6, 3.1],\n",
       "       [5. , 3.6],\n",
       "       [5.4, 3.9],\n",
       "       [4.6, 3.4],\n",
       "       [5. , 3.4],\n",
       "       [4.4, 2.9],\n",
       "       [4.9, 3.1],\n",
       "       [5.4, 3.7],\n",
       "       [4.8, 3.4],\n",
       "       [4.8, 3. ],\n",
       "       [4.3, 3. ],\n",
       "       [5.8, 4. ],\n",
       "       [5.7, 4.4],\n",
       "       [5.4, 3.9],\n",
       "       [5.1, 3.5],\n",
       "       [5.7, 3.8],\n",
       "       [5.1, 3.8],\n",
       "       [5.4, 3.4],\n",
       "       [5.1, 3.7],\n",
       "       [4.6, 3.6],\n",
       "       [5.1, 3.3],\n",
       "       [4.8, 3.4],\n",
       "       [5. , 3. ],\n",
       "       [5. , 3.4],\n",
       "       [5.2, 3.5],\n",
       "       [5.2, 3.4],\n",
       "       [4.7, 3.2],\n",
       "       [4.8, 3.1],\n",
       "       [5.4, 3.4],\n",
       "       [5.2, 4.1],\n",
       "       [5.5, 4.2],\n",
       "       [4.9, 3.1],\n",
       "       [5. , 3.2],\n",
       "       [5.5, 3.5],\n",
       "       [4.9, 3.6],\n",
       "       [4.4, 3. ],\n",
       "       [5.1, 3.4],\n",
       "       [5. , 3.5],\n",
       "       [4.5, 2.3],\n",
       "       [4.4, 3.2],\n",
       "       [5. , 3.5],\n",
       "       [5.1, 3.8],\n",
       "       [4.8, 3. ],\n",
       "       [5.1, 3.8],\n",
       "       [4.6, 3.2],\n",
       "       [5.3, 3.7],\n",
       "       [5. , 3.3],\n",
       "       [7. , 3.2],\n",
       "       [6.4, 3.2],\n",
       "       [6.9, 3.1],\n",
       "       [5.5, 2.3],\n",
       "       [6.5, 2.8],\n",
       "       [5.7, 2.8],\n",
       "       [6.3, 3.3],\n",
       "       [4.9, 2.4],\n",
       "       [6.6, 2.9],\n",
       "       [5.2, 2.7],\n",
       "       [5. , 2. ],\n",
       "       [5.9, 3. ],\n",
       "       [6. , 2.2],\n",
       "       [6.1, 2.9],\n",
       "       [5.6, 2.9],\n",
       "       [6.7, 3.1],\n",
       "       [5.6, 3. ],\n",
       "       [5.8, 2.7],\n",
       "       [6.2, 2.2],\n",
       "       [5.6, 2.5],\n",
       "       [5.9, 3.2],\n",
       "       [6.1, 2.8],\n",
       "       [6.3, 2.5],\n",
       "       [6.1, 2.8],\n",
       "       [6.4, 2.9],\n",
       "       [6.6, 3. ],\n",
       "       [6.8, 2.8],\n",
       "       [6.7, 3. ],\n",
       "       [6. , 2.9],\n",
       "       [5.7, 2.6],\n",
       "       [5.5, 2.4],\n",
       "       [5.5, 2.4],\n",
       "       [5.8, 2.7],\n",
       "       [6. , 2.7],\n",
       "       [5.4, 3. ],\n",
       "       [6. , 3.4],\n",
       "       [6.7, 3.1],\n",
       "       [6.3, 2.3],\n",
       "       [5.6, 3. ],\n",
       "       [5.5, 2.5],\n",
       "       [5.5, 2.6],\n",
       "       [6.1, 3. ],\n",
       "       [5.8, 2.6],\n",
       "       [5. , 2.3],\n",
       "       [5.6, 2.7],\n",
       "       [5.7, 3. ],\n",
       "       [5.7, 2.9],\n",
       "       [6.2, 2.9],\n",
       "       [5.1, 2.5],\n",
       "       [5.7, 2.8],\n",
       "       [6.3, 3.3],\n",
       "       [5.8, 2.7],\n",
       "       [7.1, 3. ],\n",
       "       [6.3, 2.9],\n",
       "       [6.5, 3. ],\n",
       "       [7.6, 3. ],\n",
       "       [4.9, 2.5],\n",
       "       [7.3, 2.9],\n",
       "       [6.7, 2.5],\n",
       "       [7.2, 3.6],\n",
       "       [6.5, 3.2],\n",
       "       [6.4, 2.7],\n",
       "       [6.8, 3. ],\n",
       "       [5.7, 2.5],\n",
       "       [5.8, 2.8],\n",
       "       [6.4, 3.2],\n",
       "       [6.5, 3. ],\n",
       "       [7.7, 3.8],\n",
       "       [7.7, 2.6],\n",
       "       [6. , 2.2],\n",
       "       [6.9, 3.2],\n",
       "       [5.6, 2.8],\n",
       "       [7.7, 2.8],\n",
       "       [6.3, 2.7],\n",
       "       [6.7, 3.3],\n",
       "       [7.2, 3.2],\n",
       "       [6.2, 2.8],\n",
       "       [6.1, 3. ],\n",
       "       [6.4, 2.8],\n",
       "       [7.2, 3. ],\n",
       "       [7.4, 2.8],\n",
       "       [7.9, 3.8],\n",
       "       [6.4, 2.8],\n",
       "       [6.3, 2.8],\n",
       "       [6.1, 2.6],\n",
       "       [7.7, 3. ],\n",
       "       [6.3, 3.4],\n",
       "       [6.4, 3.1],\n",
       "       [6. , 3. ],\n",
       "       [6.9, 3.1],\n",
       "       [6.7, 3.1],\n",
       "       [6.9, 3.1],\n",
       "       [5.8, 2.7],\n",
       "       [6.8, 3.2],\n",
       "       [6.7, 3.3],\n",
       "       [6.7, 3. ],\n",
       "       [6.3, 2.5],\n",
       "       [6.5, 3. ],\n",
       "       [6.2, 3.4],\n",
       "       [5.9, 3. ]])"
      ]
     },
     "execution_count": 204,
     "metadata": {},
     "output_type": "execute_result"
    }
   ],
   "source": [
    "# assign input variables to x\n",
    "X = iris.data[:, :2]\n",
    "X"
   ]
  },
  {
   "cell_type": "code",
   "execution_count": 172,
   "metadata": {
    "collapsed": true
   },
   "outputs": [
    {
     "data": {
      "text/plain": [
       "array([[1.4],\n",
       "       [1.4],\n",
       "       [1.3],\n",
       "       [1.5],\n",
       "       [1.4],\n",
       "       [1.7],\n",
       "       [1.4],\n",
       "       [1.5],\n",
       "       [1.4],\n",
       "       [1.5],\n",
       "       [1.5],\n",
       "       [1.6],\n",
       "       [1.4],\n",
       "       [1.1],\n",
       "       [1.2],\n",
       "       [1.5],\n",
       "       [1.3],\n",
       "       [1.4],\n",
       "       [1.7],\n",
       "       [1.5],\n",
       "       [1.7],\n",
       "       [1.5],\n",
       "       [1. ],\n",
       "       [1.7],\n",
       "       [1.9],\n",
       "       [1.6],\n",
       "       [1.6],\n",
       "       [1.5],\n",
       "       [1.4],\n",
       "       [1.6],\n",
       "       [1.6],\n",
       "       [1.5],\n",
       "       [1.5],\n",
       "       [1.4],\n",
       "       [1.5],\n",
       "       [1.2],\n",
       "       [1.3],\n",
       "       [1.4],\n",
       "       [1.3],\n",
       "       [1.5],\n",
       "       [1.3],\n",
       "       [1.3],\n",
       "       [1.3],\n",
       "       [1.6],\n",
       "       [1.9],\n",
       "       [1.4],\n",
       "       [1.6],\n",
       "       [1.4],\n",
       "       [1.5],\n",
       "       [1.4],\n",
       "       [4.7],\n",
       "       [4.5],\n",
       "       [4.9],\n",
       "       [4. ],\n",
       "       [4.6],\n",
       "       [4.5],\n",
       "       [4.7],\n",
       "       [3.3],\n",
       "       [4.6],\n",
       "       [3.9],\n",
       "       [3.5],\n",
       "       [4.2],\n",
       "       [4. ],\n",
       "       [4.7],\n",
       "       [3.6],\n",
       "       [4.4],\n",
       "       [4.5],\n",
       "       [4.1],\n",
       "       [4.5],\n",
       "       [3.9],\n",
       "       [4.8],\n",
       "       [4. ],\n",
       "       [4.9],\n",
       "       [4.7],\n",
       "       [4.3],\n",
       "       [4.4],\n",
       "       [4.8],\n",
       "       [5. ],\n",
       "       [4.5],\n",
       "       [3.5],\n",
       "       [3.8],\n",
       "       [3.7],\n",
       "       [3.9],\n",
       "       [5.1],\n",
       "       [4.5],\n",
       "       [4.5],\n",
       "       [4.7],\n",
       "       [4.4],\n",
       "       [4.1],\n",
       "       [4. ],\n",
       "       [4.4],\n",
       "       [4.6],\n",
       "       [4. ],\n",
       "       [3.3],\n",
       "       [4.2],\n",
       "       [4.2],\n",
       "       [4.2],\n",
       "       [4.3],\n",
       "       [3. ],\n",
       "       [4.1],\n",
       "       [6. ],\n",
       "       [5.1],\n",
       "       [5.9],\n",
       "       [5.6],\n",
       "       [5.8],\n",
       "       [6.6],\n",
       "       [4.5],\n",
       "       [6.3],\n",
       "       [5.8],\n",
       "       [6.1],\n",
       "       [5.1],\n",
       "       [5.3],\n",
       "       [5.5],\n",
       "       [5. ],\n",
       "       [5.1],\n",
       "       [5.3],\n",
       "       [5.5],\n",
       "       [6.7],\n",
       "       [6.9],\n",
       "       [5. ],\n",
       "       [5.7],\n",
       "       [4.9],\n",
       "       [6.7],\n",
       "       [4.9],\n",
       "       [5.7],\n",
       "       [6. ],\n",
       "       [4.8],\n",
       "       [4.9],\n",
       "       [5.6],\n",
       "       [5.8],\n",
       "       [6.1],\n",
       "       [6.4],\n",
       "       [5.6],\n",
       "       [5.1],\n",
       "       [5.6],\n",
       "       [6.1],\n",
       "       [5.6],\n",
       "       [5.5],\n",
       "       [4.8],\n",
       "       [5.4],\n",
       "       [5.6],\n",
       "       [5.1],\n",
       "       [5.1],\n",
       "       [5.9],\n",
       "       [5.7],\n",
       "       [5.2],\n",
       "       [5. ],\n",
       "       [5.2],\n",
       "       [5.4],\n",
       "       [5.1]])"
      ]
     },
     "execution_count": 172,
     "metadata": {},
     "output_type": "execute_result"
    }
   ],
   "source": [
    "# assign target variables to y\n",
    "y = iris.data[:,2:3]\n",
    "y"
   ]
  },
  {
   "cell_type": "code",
   "execution_count": 205,
   "metadata": {},
   "outputs": [],
   "source": [
    "# import model selection package so I can split the data into subsets\n",
    "import sklearn.model_selection as mod"
   ]
  },
  {
   "cell_type": "code",
   "execution_count": 206,
   "metadata": {},
   "outputs": [],
   "source": [
    "# split our dataset\n",
    "X_train, X_test, y_train, y_test = mod.train_test_split(X, y, train_size=0.65,test_size=0.35)"
   ]
  },
  {
   "cell_type": "code",
   "execution_count": 207,
   "metadata": {},
   "outputs": [
    {
     "data": {
      "text/plain": [
       "LinearRegression(copy_X=True, fit_intercept=True, n_jobs=None, normalize=False)"
      ]
     },
     "execution_count": 207,
     "metadata": {},
     "output_type": "execute_result"
    }
   ],
   "source": [
    "# fit out data to the model. Train the model on the train split\n",
    "lin.fit(X_train,y_train)"
   ]
  },
  {
   "cell_type": "markdown",
   "metadata": {},
   "source": [
    "**Overfitting & Underfitting**\n",
    "\n",
    "Overfitting is when a model shows almost perfect accuracy when handling training data. This happens when the model has a complex set of rules and mean the model can be inaccurate when handling new data.\n",
    "\n",
    "Underfitting is when a model doesn't fit the training data due to sets of rules that are too simple. You can't rely on an underfitting model to make an accurate prediction. [17]"
   ]
  },
  {
   "cell_type": "code",
   "execution_count": 176,
   "metadata": {},
   "outputs": [
    {
     "data": {
      "text/plain": [
       "array([-2.90467233])"
      ]
     },
     "execution_count": 176,
     "metadata": {},
     "output_type": "execute_result"
    }
   ],
   "source": [
    "# check the intercept \n",
    "lin.intercept_"
   ]
  },
  {
   "cell_type": "code",
   "execution_count": 177,
   "metadata": {},
   "outputs": [
    {
     "data": {
      "text/plain": [
       "array([[ 1.85672597, -1.36811308]])"
      ]
     },
     "execution_count": 177,
     "metadata": {},
     "output_type": "execute_result"
    }
   ],
   "source": [
    "# check the coefficients \n",
    "lin.coef_"
   ]
  },
  {
   "cell_type": "markdown",
   "metadata": {},
   "source": [
    "The model is now fitted and I can get the results to check whether the model works well."
   ]
  },
  {
   "cell_type": "code",
   "execution_count": 208,
   "metadata": {},
   "outputs": [
    {
     "data": {
      "text/plain": [
       "0.8591580880844656"
      ]
     },
     "execution_count": 208,
     "metadata": {},
     "output_type": "execute_result"
    }
   ],
   "source": [
    "# check the score of the fit\n",
    "lin.score(X_train,y_train)"
   ]
  },
  {
   "cell_type": "markdown",
   "metadata": {},
   "source": [
    "### Predict\n",
    "\n",
    "Once there is a satisfactory model, you can use it for making predictions. I can use the test subset to check the performance of the model by passing it the test X values and then comparing the predictions with the actual test y values. [18]"
   ]
  },
  {
   "cell_type": "code",
   "execution_count": 179,
   "metadata": {},
   "outputs": [
    {
     "data": {
      "text/plain": [
       "0.8707681961832068"
      ]
     },
     "execution_count": 179,
     "metadata": {},
     "output_type": "execute_result"
    }
   ],
   "source": [
    "lin.score(X_test,y_test)"
   ]
  },
  {
   "cell_type": "code",
   "execution_count": 209,
   "metadata": {},
   "outputs": [],
   "source": [
    "y_pred = lin.predict(X_test)"
   ]
  },
  {
   "cell_type": "code",
   "execution_count": 210,
   "metadata": {},
   "outputs": [
    {
     "data": {
      "text/plain": [
       "53"
      ]
     },
     "execution_count": 210,
     "metadata": {},
     "output_type": "execute_result"
    }
   ],
   "source": [
    "y_pred.size"
   ]
  },
  {
   "cell_type": "code",
   "execution_count": 182,
   "metadata": {
    "scrolled": true
   },
   "outputs": [
    {
     "data": {
      "text/plain": [
       "53"
      ]
     },
     "execution_count": 182,
     "metadata": {},
     "output_type": "execute_result"
    }
   ],
   "source": [
    "y_test.size"
   ]
  },
  {
   "cell_type": "markdown",
   "metadata": {},
   "source": [
    "Use score to test the performance of predict"
   ]
  },
  {
   "cell_type": "code",
   "execution_count": 184,
   "metadata": {
    "scrolled": false
   },
   "outputs": [
    {
     "name": "stdout",
     "output_type": "stream",
     "text": [
      "0.8707681961832068\n"
     ]
    }
   ],
   "source": [
    "lin_score = lin.score(X_test,y_test)\n",
    "print(lin_score)"
   ]
  },
  {
   "cell_type": "markdown",
   "metadata": {},
   "source": [
    "## Ridge regression\n",
    "\n",
    "Ridge regression is model used when the independent variables are highly correlated, meaning that the independent for each observation are dependent upon each. Datasets of this nature are said to suffere from multicollinearity. As the iris dataset consists of 150 observations of 3 types of iris flower, it is safe to say the dataset is highly correlated as a change in one of the independent variables of an observation will significantly impact the nature of that samples. The model results will be unstable and vary a lot given a small change in the data or model.\n",
    "\n",
    "Like linear regression, ridge regression uses the least squared method but applies L2 regularization to deal with the multicollinearity. In multicollinearity, even though the least squares estimates are unbiased, their variances are large which deviates the observed value far from the true value. By adding a degree of bias to the regression estimates, ridge regression reduces the standard errors. Ridge regression solves the multicollinearity problem by adding a shrinkage parameter $λ$ (lambda). Shrinkage is where data values are shrunk towards a central point, like the mean.[19][20][21][22][23]"
   ]
  },
  {
   "cell_type": "code",
   "execution_count": 216,
   "metadata": {},
   "outputs": [],
   "source": [
    "# create an instance of the estimator\n",
    "rid = lm.Ridge()"
   ]
  },
  {
   "cell_type": "code",
   "execution_count": 217,
   "metadata": {},
   "outputs": [],
   "source": [
    "# split our dataset\n",
    "X_train, X_test, y_train, y_test = mod.train_test_split(X, y, train_size=0.65,test_size=0.35)"
   ]
  },
  {
   "cell_type": "code",
   "execution_count": 218,
   "metadata": {},
   "outputs": [
    {
     "data": {
      "text/plain": [
       "Ridge(alpha=1.0, copy_X=True, fit_intercept=True, max_iter=None,\n",
       "      normalize=False, random_state=None, solver='auto', tol=0.001)"
      ]
     },
     "execution_count": 218,
     "metadata": {},
     "output_type": "execute_result"
    }
   ],
   "source": [
    "# fit out data to the model. Train the model on the train split\n",
    "rid.fit(X_train,y_train)"
   ]
  },
  {
   "cell_type": "code",
   "execution_count": 219,
   "metadata": {},
   "outputs": [
    {
     "data": {
      "text/plain": [
       "array([-2.28446753])"
      ]
     },
     "execution_count": 219,
     "metadata": {},
     "output_type": "execute_result"
    }
   ],
   "source": [
    "rid.intercept_"
   ]
  },
  {
   "cell_type": "code",
   "execution_count": 220,
   "metadata": {},
   "outputs": [
    {
     "data": {
      "text/plain": [
       "array([[ 1.68345895, -1.24025909]])"
      ]
     },
     "execution_count": 220,
     "metadata": {},
     "output_type": "execute_result"
    }
   ],
   "source": [
    "# check the coefficients \n",
    "rid.coef_"
   ]
  },
  {
   "cell_type": "code",
   "execution_count": 221,
   "metadata": {},
   "outputs": [
    {
     "data": {
      "text/plain": [
       "0.8521313130059374"
      ]
     },
     "execution_count": 221,
     "metadata": {},
     "output_type": "execute_result"
    }
   ],
   "source": [
    "# check the score of the fit\n",
    "rid.score(X_train,y_train)"
   ]
  },
  {
   "cell_type": "code",
   "execution_count": 222,
   "metadata": {},
   "outputs": [],
   "source": [
    "y_pred = rid.predict(X_test)"
   ]
  },
  {
   "cell_type": "code",
   "execution_count": 223,
   "metadata": {},
   "outputs": [
    {
     "data": {
      "text/plain": [
       "53"
      ]
     },
     "execution_count": 223,
     "metadata": {},
     "output_type": "execute_result"
    }
   ],
   "source": [
    "y_pred.size"
   ]
  },
  {
   "cell_type": "code",
   "execution_count": 224,
   "metadata": {
    "scrolled": true
   },
   "outputs": [
    {
     "data": {
      "text/plain": [
       "53"
      ]
     },
     "execution_count": 224,
     "metadata": {},
     "output_type": "execute_result"
    }
   ],
   "source": [
    "y_test.size"
   ]
  },
  {
   "cell_type": "code",
   "execution_count": 225,
   "metadata": {
    "scrolled": false
   },
   "outputs": [
    {
     "name": "stdout",
     "output_type": "stream",
     "text": [
      "0.8835511824409626\n"
     ]
    }
   ],
   "source": [
    "rid_score = rid.score(X_test,y_test)\n",
    "print(rid_score)"
   ]
  },
  {
   "cell_type": "markdown",
   "metadata": {},
   "source": [
    "## Lasso regression\n",
    "\n",
    "Like ridge regression, lasso regression is a type of linear regression that uses shrinkage and is also well suited to dataset that suffer from high levels of muticollinearity.\n",
    "\n",
    "The main difference between Ridge and LASSO Regression is that if ridge regression can shrink the coefficient close to 0 so that all X variables are retained. Whereas LASSO can shrink the coefficient to exactly 0 so that LASSO can select and discard the X variables that have the right coefficient of 0. Lasso allows you to automate certain parts of model selection, like variable selection/parameter elimination. [24][25][26][27]"
   ]
  },
  {
   "cell_type": "code",
   "execution_count": 226,
   "metadata": {},
   "outputs": [],
   "source": [
    "# create an instance of the estimator\n",
    "las = lm.Lasso()"
   ]
  },
  {
   "cell_type": "code",
   "execution_count": 227,
   "metadata": {},
   "outputs": [],
   "source": [
    "# split our dataset\n",
    "X_train, X_test, y_train, y_test = mod.train_test_split(X, y, train_size=0.65,test_size=0.35)"
   ]
  },
  {
   "cell_type": "code",
   "execution_count": 228,
   "metadata": {},
   "outputs": [
    {
     "data": {
      "text/plain": [
       "Lasso(alpha=1.0, copy_X=True, fit_intercept=True, max_iter=1000,\n",
       "      normalize=False, positive=False, precompute=False, random_state=None,\n",
       "      selection='cyclic', tol=0.0001, warm_start=False)"
      ]
     },
     "execution_count": 228,
     "metadata": {},
     "output_type": "execute_result"
    }
   ],
   "source": [
    "# fit out data to the model. Train the model on the train split\n",
    "las.fit(X_train,y_train)"
   ]
  },
  {
   "cell_type": "code",
   "execution_count": 231,
   "metadata": {},
   "outputs": [
    {
     "data": {
      "text/plain": [
       "array([2.2213668])"
      ]
     },
     "execution_count": 231,
     "metadata": {},
     "output_type": "execute_result"
    }
   ],
   "source": [
    "# check the intercept \n",
    "las.intercept_"
   ]
  },
  {
   "cell_type": "code",
   "execution_count": 232,
   "metadata": {},
   "outputs": [
    {
     "data": {
      "text/plain": [
       "array([ 0.26889961, -0.        ])"
      ]
     },
     "execution_count": 232,
     "metadata": {},
     "output_type": "execute_result"
    }
   ],
   "source": [
    "# check the coefficients \n",
    "las.coef_"
   ]
  },
  {
   "cell_type": "code",
   "execution_count": 233,
   "metadata": {},
   "outputs": [
    {
     "data": {
      "text/plain": [
       "0.1952531950300287"
      ]
     },
     "execution_count": 233,
     "metadata": {},
     "output_type": "execute_result"
    }
   ],
   "source": [
    "# check the score of the fit\n",
    "las.score(X_train,y_train)"
   ]
  },
  {
   "cell_type": "code",
   "execution_count": 234,
   "metadata": {},
   "outputs": [],
   "source": [
    "y_pred = las.predict(X_test)"
   ]
  },
  {
   "cell_type": "code",
   "execution_count": 235,
   "metadata": {},
   "outputs": [
    {
     "data": {
      "text/plain": [
       "53"
      ]
     },
     "execution_count": 235,
     "metadata": {},
     "output_type": "execute_result"
    }
   ],
   "source": [
    "y_pred.size"
   ]
  },
  {
   "cell_type": "code",
   "execution_count": 236,
   "metadata": {
    "scrolled": false
   },
   "outputs": [
    {
     "data": {
      "text/plain": [
       "53"
      ]
     },
     "execution_count": 236,
     "metadata": {},
     "output_type": "execute_result"
    }
   ],
   "source": [
    "y_test.size"
   ]
  },
  {
   "cell_type": "code",
   "execution_count": 237,
   "metadata": {
    "scrolled": false
   },
   "outputs": [
    {
     "name": "stdout",
     "output_type": "stream",
     "text": [
      "0.2157369070194498\n"
     ]
    }
   ],
   "source": [
    "las_score = las.score(X_test,y_test)\n",
    "print(las_score)"
   ]
  },
  {
   "cell_type": "markdown",
   "metadata": {},
   "source": [
    "## Compare\n",
    "***\n",
    "\n",
    "Now that I have run different models, I can compare their scores to decide which model best suits my dataset and problem."
   ]
  },
  {
   "cell_type": "code",
   "execution_count": 238,
   "metadata": {
    "scrolled": false
   },
   "outputs": [
    {
     "name": "stdout",
     "output_type": "stream",
     "text": [
      "0.8707681961832068\n",
      "0.8835511824409626\n",
      "0.2157369070194498\n"
     ]
    }
   ],
   "source": [
    "print(lin_score)\n",
    "print(rid_score)\n",
    "print(las_score)"
   ]
  },
  {
   "cell_type": "markdown",
   "metadata": {},
   "source": [
    "The best performing model was ridge regression. Despite being the best performing, ridge's performance is still not great which suggests that their isnt a very strong linear relationship between petal length and sepal length & sepal width. "
   ]
  },
  {
   "cell_type": "markdown",
   "metadata": {},
   "source": [
    "## Other sklearn Features\n",
    "***\n",
    "\n",
    "\n",
    "Sometimes when performing analysis of a dataset you may which to apply multiple estimators and other function simultaneously. The pipeline package makes this very easy in sklearn. The pipeline can be fitted and used for prediction with the fit and predict methods just like a normal estimator. \n",
    "\n",
    "Below, the the Iris dataset is loaded, split it into train and test sets, and the accuracy score computed all in a few lines of code [28]:"
   ]
  },
  {
   "cell_type": "code",
   "execution_count": 243,
   "metadata": {},
   "outputs": [
    {
     "name": "stderr",
     "output_type": "stream",
     "text": [
      "/Users/Shane/opt/anaconda3/lib/python3.7/site-packages/sklearn/linear_model/logistic.py:432: FutureWarning: Default solver will be changed to 'lbfgs' in 0.22. Specify a solver to silence this warning.\n",
      "  FutureWarning)\n",
      "/Users/Shane/opt/anaconda3/lib/python3.7/site-packages/sklearn/linear_model/logistic.py:469: FutureWarning: Default multi_class will be changed to 'auto' in 0.22. Specify the multi_class option to silence this warning.\n",
      "  \"this warning.\", FutureWarning)\n"
     ]
    },
    {
     "data": {
      "text/plain": [
       "0.8157894736842105"
      ]
     },
     "execution_count": 243,
     "metadata": {},
     "output_type": "execute_result"
    }
   ],
   "source": [
    "from sklearn.preprocessing import StandardScaler\n",
    "from sklearn.linear_model import LogisticRegression\n",
    "from sklearn.pipeline import make_pipeline\n",
    "from sklearn.datasets import load_iris\n",
    "from sklearn.model_selection import train_test_split\n",
    "from sklearn.metrics import accuracy_score\n",
    "\n",
    "# create a pipeline object\n",
    "pipe = make_pipeline(\n",
    "    StandardScaler(),\n",
    "    LogisticRegression()\n",
    ")\n",
    "\n",
    " # load the iris dataset and split it into train and test sets\n",
    "X, y = load_iris(return_X_y=True)\n",
    "X_train, X_test, y_train, y_test = train_test_split(X, y, random_state=0)\n",
    "\n",
    "# fit the whole pipeline\n",
    "pipe.fit(X_train, y_train)\n",
    "\n",
    "# we can now use it like any other estimator\n",
    "accuracy_score(pipe.predict(X_test), y_test)\n",
    "\n",
    "# https://scikit-learn.org/stable/getting_started.html\n"
   ]
  },
  {
   "cell_type": "markdown",
   "metadata": {},
   "source": [
    "# Reference \n",
    "***\n",
    "\n",
    "[1] https://scikit-learn.org/stable/tutorial/basic/tutorial.html#machine-learning-the-problem-setting\n",
    "\n",
    "[2] https://www.guru99.com/supervised-machine-learning.html\n",
    "\n",
    "[3] https://scikit-learn.org/stable/getting_started.html\n",
    "\n",
    "[4] https://en.wikipedia.org/wiki/Scikit-learn\n",
    "\n",
    "[5] https://www.youtube.com/watch?v=juEOOQntrd0\n",
    "\n",
    "[6] https://scikit-learn.org/stable/datasets/toy_dataset.html\n",
    "\n",
    "[7] https://scikit-learn.org/stable/tutorial/statistical_inference/model_selection.html\n",
    "\n",
    "[8] https://scikit-learn.org/stable/tutorial/machine_learning_map/index.html\n",
    "\n",
    "[9] https://www.bitdegree.org/learn/train-test-split#:~:text=What%20Sklearn%20and%20Model_selection%20are,-Before%20discussing%20train_test_split&text=Model_selection%20is%20a%20method%20for,by%20using%20a%20specific%20dataset.\n",
    "\n",
    "[10] https://realpython.com/linear-regression-in-python/\n",
    "\n",
    "[11] https://en.wikipedia.org/wiki/Simple_linear_regression\n",
    "\n",
    "[12] https://www.youtube.com/watch?v=E5RjzSK0fvY\n",
    "\n",
    "[13] https://en.wikipedia.org/wiki/Line_fitting\n",
    "\n",
    "[14] https://towardsdatascience.com/linear-regressions-with-scikitlearn-a5d54efe898f\n",
    "\n",
    "[15] https://scikit-learn.org/stable/getting_started.html#fitting-and-predicting-estimator-basics\n",
    "\n",
    "[16] https://stackoverflow.com/questions/45704226/what-does-the-fit-method-in-scikit-learn-do\n",
    "\n",
    "[17] https://www.bitdegree.org/learn/train-test-split\n",
    "\n",
    "[18] https://www.ritchieng.com/machine-learning-evaluate-linear-regression-model/\n",
    "\n",
    "[19] https://scikit-learn.org/stable/modules/generated/sklearn.linear_model.Ridge.html#sklearn.linear_model.Ridge\n",
    "\n",
    "[20] https://en.wikipedia.org/wiki/Ridge_regression\n",
    "\n",
    "[21] https://www.mygreatlearning.com/blog/what-is-ridge-regression/\n",
    "\n",
    "[22] https://towardsdatascience.com/multi-collinearity-in-regression-fe7a2c1467ea#:~:text=When%20independent%20variables%20are%20highly,in%20the%20data%20or%20model\n",
    "\n",
    "[23] https://datascience.stackexchange.com/questions/69661/difference-between-ridge-and-linear-regression\n",
    "\n",
    "[24] https://scikit-learn.org/stable/modules/generated/sklearn.linear_model.Lasso.html?highlight=lasso#sklearn.linear_model.Lasso\n",
    "\n",
    "[25] https://algotech.netlify.app/blog/ridge-lasso/\n",
    "\n",
    "[26] https://www.statisticshowto.com/lasso-regression/#:~:text=Lasso%20regression%20is%20a%20type,i.e.%20models%20with%20fewer%20parameters).&text=The%20acronym%20%E2%80%9CLASSO%E2%80%9D%20stands%20for,Absolute%20Shrinkage%20and%20Selection%20Operator.\n",
    "\n",
    "[27] https://towardsdatascience.com/ridge-and-lasso-regression-a-complete-guide-with-python-scikit-learn-e20e34bcbf0b#:~:text=Ridge%20and%20Lasso%20regression%20are,the%20magnitude%20of%20the%20coefficients.\n",
    "\n",
    "[28] https://scikit-learn.org/stable/getting_started.html"
   ]
  },
  {
   "cell_type": "code",
   "execution_count": null,
   "metadata": {},
   "outputs": [],
   "source": []
  }
 ],
 "metadata": {
  "kernelspec": {
   "display_name": "Python 3",
   "language": "python",
   "name": "python3"
  },
  "language_info": {
   "codemirror_mode": {
    "name": "ipython",
    "version": 3
   },
   "file_extension": ".py",
   "mimetype": "text/x-python",
   "name": "python",
   "nbconvert_exporter": "python",
   "pygments_lexer": "ipython3",
   "version": "3.7.4"
  }
 },
 "nbformat": 4,
 "nbformat_minor": 4
}
